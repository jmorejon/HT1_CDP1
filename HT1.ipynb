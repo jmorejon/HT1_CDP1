{
 "cells": [
  {
   "cell_type": "markdown",
   "metadata": {},
   "source": [
    "# Resumen para el uso de GIT"
   ]
  },
  {
   "cell_type": "markdown",
   "metadata": {},
   "source": [
    "Es un sistema de control de versiones, registra los cambios de ficheros a lo largo del tiempo."
   ]
  },
  {
   "cell_type": "markdown",
   "metadata": {},
   "source": [
    "La utilidad de estos sistemas, simplifican el control de versiones del desarrollo de software. Contribuye a la administración del equipo de desarrollo. Existe mayor visibilidad al encontrar errores de código, vulnerabilidades entre otros. \n",
    "\n",
    "<img src=\"https://git-scm.com/book/en/v2/images/deltas.png\" width=\"800\" height=\"400\">\n",
    "Figura 1. Recuperado de <a>https://git-scm.com/</a>"
   ]
  },
  {
   "cell_type": "markdown",
   "metadata": {},
   "source": [
    "## Comandos de Git más utilizados"
   ]
  },
  {
   "cell_type": "markdown",
   "metadata": {},
   "source": [
    "**1. git init**"
   ]
  },
  {
   "cell_type": "markdown",
   "metadata": {},
   "source": [
    "Este comando incia el repositorio de manera local."
   ]
  },
  {
   "cell_type": "markdown",
   "metadata": {},
   "source": [
    "**2. git remote add origin <url>**"
   ]
  },
  {
   "cell_type": "markdown",
   "metadata": {},
   "source": [
    "Para apuntar un repositorio local al remoto, se debe utilizar este comando seguido de la *url*."
   ]
  },
  {
   "cell_type": "markdown",
   "metadata": {},
   "source": [
    "**3. git add**"
   ]
  },
  {
   "cell_type": "markdown",
   "metadata": {},
   "source": [
    "Este comando es utilizado para agregar ficheros al repositorio, incluir -A para agregar todos los ficheros al commit."
   ]
  },
  {
   "cell_type": "markdown",
   "metadata": {},
   "source": [
    "**4. git commit**"
   ]
  },
  {
   "cell_type": "markdown",
   "metadata": {},
   "source": [
    "Este comando permite cargar los ficheros que anteriormente fueron agregados, se debe de incluir *-m* seguido del comentario del porque del commit. "
   ]
  },
  {
   "cell_type": "markdown",
   "metadata": {},
   "source": [
    "**5. git push -u**\n",
    "\n",
    "Este comando permite subir los cambios de manera remota, seguido del *-u* debe de especificar la rama master o main al origin. "
   ]
  },
  {
   "cell_type": "markdown",
   "metadata": {},
   "source": [
    "**6. git checkout**\n",
    "\n",
    "Este comando permite crear una rama y setear como principal.\n",
    "\n",
    "**7. git branch -d**\n",
    "\n",
    "Este comando permite eliminar una rama\n",
    "\n",
    "**8. git pull**\n",
    "\n",
    "Este comando permite actualizar la rama master o principal desde el remoto\n"
   ]
  }
 ],
 "metadata": {
  "kernelspec": {
   "display_name": "Python 3",
   "language": "python",
   "name": "python3"
  },
  "language_info": {
   "codemirror_mode": {
    "name": "ipython",
    "version": 3
   },
   "file_extension": ".py",
   "mimetype": "text/x-python",
   "name": "python",
   "nbconvert_exporter": "python",
   "pygments_lexer": "ipython3",
   "version": "3.8.5"
  }
 },
 "nbformat": 4,
 "nbformat_minor": 4
}
